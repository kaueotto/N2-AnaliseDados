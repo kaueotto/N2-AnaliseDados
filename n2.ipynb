{
 "cells": [
  {
   "cell_type": "code",
   "execution_count": 55,
   "metadata": {},
   "outputs": [],
   "source": [
    "import os\n",
    "import pandas as pd\n",
    "import matplotlib.pyplot as plt\n",
    "import seaborn as sns"
   ]
  },
  {
   "cell_type": "code",
   "execution_count": 56,
   "metadata": {},
   "outputs": [],
   "source": [
    "def carregar_csvs_de_pasta(pasta):\n",
    "    all_files = []\n",
    "    for root, dirs, files in os.walk(pasta):\n",
    "        for file in files:\n",
    "            if file.endswith(\".csv\"):\n",
    "                all_files.append(os.path.join(root, file))\n",
    "    \n",
    "    df_list = []\n",
    "    for file in all_files:\n",
    "        try:\n",
    "            df = pd.read_csv(file, sep=';', encoding='latin1')\n",
    "            df_list.append(df)\n",
    "        except Exception as e:\n",
    "            print(f\"Erro ao ler {file}: {e}\")\n",
    "    \n",
    "    if df_list:\n",
    "        return pd.concat(df_list, ignore_index=True)\n",
    "    else:\n",
    "        return pd.DataFrame()"
   ]
  },
  {
   "cell_type": "code",
   "execution_count": 57,
   "metadata": {},
   "outputs": [
    {
     "name": "stderr",
     "output_type": "stream",
     "text": [
      "<>:10: SyntaxWarning: invalid escape sequence '\\C'\n",
      "<>:10: SyntaxWarning: invalid escape sequence '\\C'\n",
      "C:\\Users\\amjun\\AppData\\Local\\Temp\\ipykernel_22036\\4194016782.py:10: SyntaxWarning: invalid escape sequence '\\C'\n",
      "  pasta_bens = 'C:\\\\Users\\\\amjun\\\\Desktop\\\\Catolica\\\\CienciaDados\\\\N2-AnaliseDados\\CSVs\\\\bem_candidato_2024\\\\'\n"
     ]
    }
   ],
   "source": [
    "# # Defina os caminhos das pastas contendo os CSVs KAUE\n",
    "# pasta_bens = 'C:\\\\Projetos\\\\Semestre 8\\\\CienciaDeDados\\\\n2\\\\bem candidato\\\\'\n",
    "# pasta_cons_cand = 'C:\\\\Projetos\\\\Semestre 8\\\\CienciaDeDados\\\\n2\\\\consulta candidato\\\\'\n",
    "\n",
    "\n",
    "\n",
    "\n",
    "\n",
    "# Defina os caminhos das pastas contendo os CSVs Amarildo\n",
    "pasta_bens = 'C:\\\\Users\\\\amjun\\\\Desktop\\\\Catolica\\\\CienciaDados\\\\N2-AnaliseDados\\CSVs\\\\bem_candidato_2024\\\\'\n",
    "pasta_cons_cand = 'C:\\\\Users\\\\amjun\\\\Desktop\\\\Catolica\\\\CienciaDados\\\\N2-AnaliseDados\\\\CSVs\\\\consulta_cand_2024\\\\'\n",
    "pasta_coligacoes = 'C:\\\\Users\\\\amjun\\\\Desktop\\\\Catolica\\\\CienciaDados\\\\N2-AnaliseDados\\\\CSVs\\\\consulta_coligacao_2024\\\\'\n",
    "pasta_redes_sociais = 'C:\\\\Users\\\\amjun\\\\Desktop\\\\Catolica\\\\CienciaDados\\\\N2-AnaliseDados\\\\CSVs\\\\rede_social_candidato_2024\\\\'\n",
    "\n",
    "df_bens = carregar_csvs_de_pasta(pasta_bens)\n",
    "df_candidatos = carregar_csvs_de_pasta(pasta_cons_cand)\n",
    "df_coligacoes = carregar_csvs_de_pasta(pasta_coligacoes)\n",
    "df_redes_sociais = carregar_csvs_de_pasta(pasta_redes_sociais)\n",
    "\n",
    "\n"
   ]
  },
  {
   "cell_type": "markdown",
   "metadata": {},
   "source": [
    "# O candidato eleito para prefeito (2020) é o que declarou maior quantidade de bens (influência do poder econômico nas eleições)"
   ]
  },
  {
   "cell_type": "code",
   "execution_count": 58,
   "metadata": {},
   "outputs": [
    {
     "name": "stdout",
     "output_type": "stream",
     "text": [
      "O candidato eleito para prefeito em 2024 que declarou a maior quantidade de bens foi MIGUEL VAZ RIBEIRO com um total de R$ 878,863,020.80.\n"
     ]
    }
   ],
   "source": [
    "# Carregar todos os CSVs das pastas\n",
    "df_bens['VR_BEM_CANDIDATO'] = df_bens['VR_BEM_CANDIDATO'].str.replace('.', '', regex=False).str.replace(',', '.', regex=False)\n",
    "\n",
    "# Filtrar prefeitos eleitos em 2024\n",
    "prefeitos_2024 = df_candidatos[(df_candidatos['DS_CARGO'] == 'PREFEITO') & (df_candidatos['ANO_ELEICAO'] == 2024)]\n",
    "prefeitos_eleitos_2024 = prefeitos_2024[prefeitos_2024['DS_SIT_TOT_TURNO'] == 'ELEITO']\n",
    "\n",
    "# Mesclar as tabelas de bens e candidatos\n",
    "candidatos_bens = pd.merge(prefeitos_eleitos_2024, df_bens, on='SQ_CANDIDATO')\n",
    "\n",
    "# Converter valores dos bens em float\n",
    "candidatos_bens['VR_BEM_CANDIDATO'] = candidatos_bens['VR_BEM_CANDIDATO'].replace(',', '.', regex=True).astype(float)\n",
    "\n",
    "# Agrupar e encontrar o candidato com mais bens\n",
    "candidato_com_mais_bens = candidatos_bens.groupby(['SQ_CANDIDATO', 'NM_CANDIDATO'])['VR_BEM_CANDIDATO'].sum().reset_index()\n",
    "candidato_com_mais_bens = candidato_com_mais_bens.sort_values(by='VR_BEM_CANDIDATO', ascending=False)\n",
    "\n",
    "# Exibir o candidato com maior valor de bens\n",
    "candidato_elegido = candidato_com_mais_bens.head(1)\n",
    "\n",
    "# Exibindo o insight\n",
    "print(f\"O candidato eleito para prefeito em 2024 que declarou a maior quantidade de bens foi {candidato_elegido['NM_CANDIDATO'].values[0]} com um total de R$ {candidato_elegido['VR_BEM_CANDIDATO'].values[0]:,.2f}.\")\n"
   ]
  },
  {
   "cell_type": "markdown",
   "metadata": {},
   "source": [
    "# Qual partido tem a maior quantidade de candidatos por UF?\n"
   ]
  },
  {
   "cell_type": "code",
   "execution_count": 59,
   "metadata": {},
   "outputs": [
    {
     "name": "stdout",
     "output_type": "stream",
     "text": [
      "    SG_UF  NR_PARTIDO  NUM_CANDIDATOS\n",
      "73     AP          12             346\n",
      "521    RR          10             346\n",
      "1      AC          11             546\n",
      "514    RO          44            1160\n",
      "64     AM          44            1576\n",
      "621    SE          55            1662\n",
      "168    ES          40            1832\n",
      "278    MS          45            1898\n",
      "25     AL          15            2230\n",
      "477    RN          15            2364\n",
      "655    TO          10            2382\n",
      "453    RJ          22            2578\n",
      "302    MT          44            2932\n",
      "224    MA          44            3064\n",
      "380    PE          40            3208\n",
      "335    PB          10            3276\n",
      "142    CE          40            3466\n",
      "393    PI          13            3818\n",
      "312    PA          15            3924\n",
      "196    GO          44            4694\n",
      "575    SC          15            6172\n",
      "440    PR          55            7770\n",
      "118    BA          55            8750\n",
      "544    RS          11            9254\n",
      "255    MG          55           12584\n",
      "650    SP          55           14224\n"
     ]
    }
   ],
   "source": [
    "# Contar a quantidade de candidatos por partido e UF (SG_UF)\n",
    "partido_uf_count = df_candidatos.groupby(['SG_UF', 'NR_PARTIDO']).size().reset_index(name='NUM_CANDIDATOS')\n",
    "\n",
    "# Encontrar o partido com maior número de candidatos por UF\n",
    "max_candidatos_por_uf = partido_uf_count.loc[partido_uf_count.groupby('SG_UF')['NUM_CANDIDATOS'].idxmax()]\n",
    "\n",
    "df_sorted = max_candidatos_por_uf.sort_values(by='NUM_CANDIDATOS')\n",
    "\n",
    "print(df_sorted)\n"
   ]
  },
  {
   "cell_type": "markdown",
   "metadata": {},
   "source": [
    "# As maiores coligações (em número de partidos) foram as que mais ganharam  disputas?"
   ]
  },
  {
   "cell_type": "code",
   "execution_count": 70,
   "metadata": {},
   "outputs": [
    {
     "name": "stdout",
     "output_type": "stream",
     "text": [
      "       SQ_COLIGACAO  NUM_PARTIDOS_COLIGACAO  VITORIAS\n",
      "0      130001687370                      18         4\n",
      "2      250001695253                      17         4\n",
      "1       60001725687                      17         4\n",
      "3      250001732467                      16         4\n",
      "4      130001722548                      15         4\n",
      "...             ...                     ...       ...\n",
      "16711  210001756762                       1         6\n",
      "16710  210001756766                       1         2\n",
      "16709  210001756781                       1         2\n",
      "16708  210001756783                       1         6\n",
      "32305  270001762065                       1         4\n",
      "\n",
      "[32306 rows x 3 columns]\n"
     ]
    }
   ],
   "source": [
    "# Filtrar apenas os eleitos (CD_SIT_TOT_TURNO == 1, 2, ou 3)\n",
    "eleitos = df_candidatos[df_candidatos['CD_SIT_TOT_TURNO'].isin([1, 2, 3])]\n",
    "\n",
    "# Contar o número de partidos por coligação (SQ_COLIGACAO)\n",
    "df_candidatos['NUM_PARTIDOS_COLIGACAO'] = df_candidatos['DS_COMPOSICAO_COLIGACAO'].apply(lambda x: len(str(x).split('/')))\n",
    "\n",
    "# Obter as coligações vencedoras\n",
    "coligacoes_vencedoras = eleitos.groupby('SQ_COLIGACAO')['NUM_PARTIDOS_COLIGACAO'].first().reset_index()\n",
    "\n",
    "# Ordenar as coligações vencedoras pelo número de partidos\n",
    "coligacoes_vencedoras_sorted = coligacoes_vencedoras.sort_values(by='NUM_PARTIDOS_COLIGACAO', ascending=False)\n",
    "\n",
    "# Contar quantas coligações venceram e qual o tamanho delas\n",
    "total_vitorias_por_coligacao = eleitos.groupby('SQ_COLIGACAO').size().reset_index(name='VITORIAS')\n",
    "coligacoes_com_partidos = pd.merge(coligacoes_vencedoras_sorted, total_vitorias_por_coligacao, on='SQ_COLIGACAO')\n",
    "\n",
    "# Exibir as coligações que mais ganharam com base no número de partidos\n",
    "print(coligacoes_com_partidos.sort_values(by='NUM_PARTIDOS_COLIGACAO', ascending=False))\n"
   ]
  },
  {
   "cell_type": "markdown",
   "metadata": {},
   "source": [
    "\n",
    "# Existe uma tendência regional para maior número de candidaturas por partido"
   ]
  },
  {
   "cell_type": "code",
   "execution_count": 60,
   "metadata": {},
   "outputs": [
    {
     "data": {
      "image/png": "[encoded data removed]",
      "text/plain": [
       "<Figure size 1200x800 with 1 Axes>"
      ]
     },
     "metadata": {},
     "output_type": "display_data"
    }
   ],
   "source": [
    "partido_uf_count = df_candidatos.groupby(['SG_UF', 'NR_PARTIDO']).size().reset_index(name='NUM_CANDIDATOS')\n",
    "\n",
    "# Visualizar a tendência de candidaturas por partido\n",
    "plt.figure(figsize=(12, 8))\n",
    "sns.barplot(data=partido_uf_count, x='SG_UF', y='NUM_CANDIDATOS', hue='NR_PARTIDO', palette='viridis')\n",
    "plt.title('Número de Candidaturas por Partido por UF')\n",
    "plt.xlabel('Unidade Federativa (UF)')\n",
    "plt.ylabel('Número de Candidatos')\n",
    "plt.xticks(rotation=45)\n",
    "plt.legend(title='Número do Partido', bbox_to_anchor=(1.05, 1), loc='upper left')\n",
    "plt.tight_layout()\n",
    "plt.show()"
   ]
  },
  {
   "cell_type": "markdown",
   "metadata": {},
   "source": [
    "# Qual a região que mais registrou candidatos Indígenas e Quilombolas?"
   ]
  },
  {
   "cell_type": "code",
   "execution_count": 61,
   "metadata": {},
   "outputs": [
    {
     "name": "stdout",
     "output_type": "stream",
     "text": [
      "REGIAO              AM\n",
      "NUM_CANDIDATOS    1144\n",
      "Name: 2, dtype: object\n"
     ]
    },
    {
     "name": "stderr",
     "output_type": "stream",
     "text": [
      "C:\\Users\\amjun\\AppData\\Local\\Temp\\ipykernel_22036\\3228461563.py:4: SettingWithCopyWarning: \n",
      "A value is trying to be set on a copy of a slice from a DataFrame.\n",
      "Try using .loc[row_indexer,col_indexer] = value instead\n",
      "\n",
      "See the caveats in the documentation: https://pandas.pydata.org/pandas-docs/stable/user_guide/indexing.html#returning-a-view-versus-a-copy\n",
      "  candidatos_indigenas['REGIAO'] = candidatos_indigenas['SG_UF']\n"
     ]
    }
   ],
   "source": [
    "candidatos_indigenas = df_candidatos[df_candidatos['CD_COR_RACA'] == 5]\n",
    "\n",
    "# Mapear UFs para regiões\n",
    "candidatos_indigenas['REGIAO'] = candidatos_indigenas['SG_UF']\n",
    "\n",
    "# Contar o número de candidatos por região\n",
    "candidatos_por_regiao = candidatos_indigenas.groupby('REGIAO').size().reset_index(name='NUM_CANDIDATOS')\n",
    "\n",
    "# Identificar a região com mais candidatos\n",
    "regiao_max_candidatos = candidatos_por_regiao.loc[candidatos_por_regiao['NUM_CANDIDATOS'].idxmax()]\n",
    "\n",
    "# Exibir o resultado\n",
    "print(regiao_max_candidatos)"
   ]
  },
  {
   "cell_type": "markdown",
   "metadata": {},
   "source": [
    "# Qual a rede social preferida dos candidatos? Separe por partido e por UF."
   ]
  },
  {
   "cell_type": "code",
   "execution_count": 65,
   "metadata": {},
   "outputs": [
    {
     "name": "stdout",
     "output_type": "stream",
     "text": [
      "     SG_UF_x  NR_PARTIDO DS_REDE_SOCIAL  NUM_CANDIDATOS\n",
      "1         AC          10      Instagram              16\n",
      "4         AC          11      Instagram              36\n",
      "5         AC          12      Instagram              20\n",
      "7         AC          13       Facebook              12\n",
      "11        AC          15      Instagram              16\n",
      "...      ...         ...            ...             ...\n",
      "2020      TO          50      Instagram              24\n",
      "2022      TO          55      Instagram             184\n",
      "2025      TO          65      Instagram              28\n",
      "2027      TO          70      Instagram              36\n",
      "2030      TO          77      Instagram              72\n",
      "\n",
      "[635 rows x 4 columns]\n"
     ]
    }
   ],
   "source": [
    "def identificar_rede_social(url):\n",
    "    if 'facebook.com' in url:\n",
    "        return 'Facebook'\n",
    "    elif 'instagram.com' in url:\n",
    "        return 'Instagram'\n",
    "    elif 'x.com' in url:\n",
    "        return 'X'\n",
    "    elif 'twitter.com' in url:\n",
    "        return 'X'\n",
    "    elif 'youtube.com' in url:\n",
    "        return 'YouTube'\n",
    "    elif 'linkedin.com' in url:\n",
    "        return 'LinkedIn'\n",
    "    else:\n",
    "        return 'Outros'\n",
    "\n",
    "\n",
    "# Aplicar a função no campo DS_URL\n",
    "df_redes_sociais['DS_REDE_SOCIAL'] = df_redes_sociais['DS_URL'].apply(identificar_rede_social)\n",
    "\n",
    "# Filtrar apenas as redes sociais com ordem 1 (NR_ORDEM_REDE_SOCIAL == 1)\n",
    "df_redes_sociais_favorita = df_redes_sociais[df_redes_sociais['NR_ORDEM_REDE_SOCIAL'] == 1]\n",
    "\n",
    "# Mesclar os datasets pela chave 'SQ_CANDIDATO'\n",
    "df_merged = pd.merge(df_candidatos, df_redes_sociais_favorita, on='SQ_CANDIDATO', how='inner')\n",
    "\n",
    "# Contar a rede social mais usada por partido e UF\n",
    "rede_social_partido_uf = df_merged.groupby(['SG_UF_x', 'NR_PARTIDO', 'DS_REDE_SOCIAL']).size().reset_index(name='NUM_CANDIDATOS')\n",
    "\n",
    "# Encontrar a rede social mais usada por partido e UF\n",
    "rede_social_preferida = rede_social_partido_uf.loc[rede_social_partido_uf.groupby(['SG_UF_x', 'NR_PARTIDO'])['NUM_CANDIDATOS'].idxmax()]\n",
    "\n",
    "# Exibir o resultado\n",
    "print(rede_social_preferida)"
   ]
  }
 ],
 "metadata": {
  "kernelspec": {
   "display_name": "Python 3",
   "language": "python",
   "name": "python3"
  },
  "language_info": {
   "codemirror_mode": {
    "name": "ipython",
    "version": 3
   },
   "file_extension": ".py",
   "mimetype": "text/x-python",
   "name": "python",
   "nbconvert_exporter": "python",
   "pygments_lexer": "ipython3",
   "version": "3.12.2"
  }
 },
 "nbformat": 4,
 "nbformat_minor": 2
}
