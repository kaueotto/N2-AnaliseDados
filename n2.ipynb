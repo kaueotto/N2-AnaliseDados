{
 "cells": [
  {
   "cell_type": "code",
   "execution_count": 1,
   "metadata": {},
   "outputs": [],
   "source": [
    "import os\n",
    "import pandas as pd"
   ]
  },
  {
   "cell_type": "code",
   "execution_count": 4,
   "metadata": {},
   "outputs": [],
   "source": [
    "def carregar_csvs_de_pasta(pasta):\n",
    "    all_files = []\n",
    "    for root, dirs, files in os.walk(pasta):\n",
    "        for file in files:\n",
    "            if file.endswith(\".csv\"):\n",
    "                all_files.append(os.path.join(root, file))\n",
    "    \n",
    "    df_list = []\n",
    "    for file in all_files:\n",
    "        try:\n",
    "            df = pd.read_csv(file, sep=';', encoding='latin1')\n",
    "            df_list.append(df)\n",
    "        except Exception as e:\n",
    "            print(f\"Erro ao ler {file}: {e}\")\n",
    "    \n",
    "    if df_list:\n",
    "        return pd.concat(df_list, ignore_index=True)\n",
    "    else:\n",
    "        return pd.DataFrame()"
   ]
  },
  {
   "cell_type": "code",
   "execution_count": 5,
   "metadata": {},
   "outputs": [],
   "source": [
    "# Defina os caminhos das pastas contendo os CSVs\n",
    "pasta_bens = 'C:\\\\Projetos\\\\Semestre 8\\\\CienciaDeDados\\\\n2\\\\bem candidato\\\\'\n",
    "pasta_cons_cand = 'C:\\\\Projetos\\\\Semestre 8\\\\CienciaDeDados\\\\n2\\\\consulta candidato\\\\'\n"
   ]
  },
  {
   "cell_type": "code",
   "execution_count": 6,
   "metadata": {},
   "outputs": [
    {
     "name": "stdout",
     "output_type": "stream",
     "text": [
      "O candidato eleito para prefeito em 2024 que declarou a maior quantidade de bens foi MIGUEL VAZ RIBEIRO com um total de R$ 878,863,020.80.\n"
     ]
    }
   ],
   "source": [
    "# Carregar todos os CSVs das pastas\n",
    "df_bens = carregar_csvs_de_pasta(pasta_bens)\n",
    "df_bens['VR_BEM_CANDIDATO'] = df_bens['VR_BEM_CANDIDATO'].str.replace('.', '', regex=False).str.replace(',', '.', regex=False)\n",
    "\n",
    "df_candidatos = carregar_csvs_de_pasta(pasta_cons_cand)\n",
    "\n",
    "# Filtrar prefeitos eleitos em 2024\n",
    "prefeitos_2024 = df_candidatos[(df_candidatos['DS_CARGO'] == 'PREFEITO') & (df_candidatos['ANO_ELEICAO'] == 2024)]\n",
    "prefeitos_eleitos_2024 = prefeitos_2024[prefeitos_2024['DS_SIT_TOT_TURNO'] == 'ELEITO']\n",
    "\n",
    "# Mesclar as tabelas de bens e candidatos\n",
    "candidatos_bens = pd.merge(prefeitos_eleitos_2024, df_bens, on='SQ_CANDIDATO')\n",
    "\n",
    "# Converter valores dos bens em float\n",
    "candidatos_bens['VR_BEM_CANDIDATO'] = candidatos_bens['VR_BEM_CANDIDATO'].replace(',', '.', regex=True).astype(float)\n",
    "\n",
    "# Agrupar e encontrar o candidato com mais bens\n",
    "candidato_com_mais_bens = candidatos_bens.groupby(['SQ_CANDIDATO', 'NM_CANDIDATO'])['VR_BEM_CANDIDATO'].sum().reset_index()\n",
    "candidato_com_mais_bens = candidato_com_mais_bens.sort_values(by='VR_BEM_CANDIDATO', ascending=False)\n",
    "\n",
    "# Exibir o candidato com maior valor de bens\n",
    "candidato_elegido = candidato_com_mais_bens.head(1)\n",
    "\n",
    "# Exibindo o insight\n",
    "print(f\"O candidato eleito para prefeito em 2024 que declarou a maior quantidade de bens foi {candidato_elegido['NM_CANDIDATO'].values[0]} com um total de R$ {candidato_elegido['VR_BEM_CANDIDATO'].values[0]:,.2f}.\")\n"
   ]
  }
 ],
 "metadata": {
  "kernelspec": {
   "display_name": "Python 3",
   "language": "python",
   "name": "python3"
  },
  "language_info": {
   "codemirror_mode": {
    "name": "ipython",
    "version": 3
   },
   "file_extension": ".py",
   "mimetype": "text/x-python",
   "name": "python",
   "nbconvert_exporter": "python",
   "pygments_lexer": "ipython3",
   "version": "3.11.1"
  }
 },
 "nbformat": 4,
 "nbformat_minor": 2
}
